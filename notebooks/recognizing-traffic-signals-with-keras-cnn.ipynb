{
 "cells": [
  {
   "cell_type": "markdown",
   "metadata": {
    "_cell_guid": "b1076dfc-b9ad-4769-8c92-a6c4dae69d19",
    "_uuid": "8f2839f25d086af736a60e9eeb907d3b93b6e0e5",
    "papermill": {
     "duration": 0.013913,
     "end_time": "2021-03-09T09:31:56.704933",
     "exception": false,
     "start_time": "2021-03-09T09:31:56.691020",
     "status": "completed"
    },
    "tags": []
   },
   "source": [
    "# Recognizing Traffic Signals with Keras CNN"
   ]
  },
  {
   "cell_type": "markdown",
   "metadata": {
    "papermill": {
     "duration": 0.012668,
     "end_time": "2021-03-09T09:31:56.730758",
     "exception": false,
     "start_time": "2021-03-09T09:31:56.718090",
     "status": "completed"
    },
    "tags": []
   },
   "source": [
    "![traffic_signal](https://www.rhinocarhire.com/CorporateSite/media/Drive-Smart/Road-Signs/Spain-Road-Signs.jpg)"
   ]
  },
  {
   "cell_type": "markdown",
   "metadata": {
    "papermill": {
     "duration": 0.012697,
     "end_time": "2021-03-09T09:31:56.756283",
     "exception": false,
     "start_time": "2021-03-09T09:31:56.743586",
     "status": "completed"
    },
    "tags": []
   },
   "source": [
    "Hello Kagglers,\n",
    "\n",
    "In this notebook I present you a simple convolutional networks model for the classification of about 40 classes of German traffic signs.\n",
    "\n",
    "The development of the model and preprocessing of the images will be done with the Keras library. I will always try to prioritize simplicity, so that those who are starting with neural networks can benefit from it.\n",
    "\n",
    "Without further ado, let's get started. I hope you enjoy it."
   ]
  },
  {
   "cell_type": "markdown",
   "metadata": {
    "papermill": {
     "duration": 0.012575,
     "end_time": "2021-03-09T09:31:56.781633",
     "exception": false,
     "start_time": "2021-03-09T09:31:56.769058",
     "status": "completed"
    },
    "tags": []
   },
   "source": [
    "## The data\n",
    "\n",
    "Extracted from the Kaggle dataset description:\n",
    "\n",
    "The German Traffic Sign Benchmark is a multi-class, single-image classification challenge held at the International Joint Conference on Neural Networks (IJCNN) 2011. The benchmark has the following properties:\n",
    "\n",
    "- Single-image, multi-class classification problem\n",
    "- More than 40 classes\n",
    "- More than 50,000 images in total\n",
    "- Large, lifelike database"
   ]
  },
  {
   "cell_type": "markdown",
   "metadata": {
    "papermill": {
     "duration": 0.012513,
     "end_time": "2021-03-09T09:31:56.806968",
     "exception": false,
     "start_time": "2021-03-09T09:31:56.794455",
     "status": "completed"
    },
    "tags": []
   },
   "source": [
    "## Index\n",
    "\n",
    "1. [Importing the necessary libraries](#section1)\n",
    "2. [Load and format the data](#section2)\n",
    "3. [Preprocessing the data](#section3)\n",
    "4. [The model](#section4)\n",
    "5. [Validation of the model](#section5)"
   ]
  },
  {
   "cell_type": "markdown",
   "metadata": {
    "papermill": {
     "duration": 0.012604,
     "end_time": "2021-03-09T09:31:56.832389",
     "exception": false,
     "start_time": "2021-03-09T09:31:56.819785",
     "status": "completed"
    },
    "tags": []
   },
   "source": [
    "### <a id='section1'>1. Importing the necessary libraries</a>"
   ]
  },
  {
   "cell_type": "code",
   "execution_count": 1,
   "metadata": {
    "execution": {
     "iopub.execute_input": "2021-03-09T09:31:56.864164Z",
     "iopub.status.busy": "2021-03-09T09:31:56.863491Z",
     "iopub.status.idle": "2021-03-09T09:32:03.501553Z",
     "shell.execute_reply": "2021-03-09T09:32:03.500337Z"
    },
    "papermill": {
     "duration": 6.656563,
     "end_time": "2021-03-09T09:32:03.501761",
     "exception": false,
     "start_time": "2021-03-09T09:31:56.845198",
     "status": "completed"
    },
    "tags": []
   },
   "outputs": [],
   "source": [
    "import numpy as np \n",
    "import pandas as pd\n",
    "import matplotlib.pyplot as plt\n",
    "import tensorflow as tf\n",
    "import keras\n",
    "import cv2\n",
    "from PIL import Image\n",
    "from sklearn.model_selection import train_test_split\n",
    "from sklearn.metrics import accuracy_score\n",
    "import time\n",
    "import os\n",
    "import warnings\n",
    "\n",
    "warnings.filterwarnings(\"ignore\")"
   ]
  },
  {
   "cell_type": "markdown",
   "metadata": {
    "papermill": {
     "duration": 0.013011,
     "end_time": "2021-03-09T09:32:03.529305",
     "exception": false,
     "start_time": "2021-03-09T09:32:03.516294",
     "status": "completed"
    },
    "tags": []
   },
   "source": [
    "### <a id='section2'>2. Load and format the data</a>"
   ]
  },
  {
   "cell_type": "code",
   "execution_count": 2,
   "metadata": {
    "execution": {
     "iopub.execute_input": "2021-03-09T09:32:03.561756Z",
     "iopub.status.busy": "2021-03-09T09:32:03.560101Z",
     "iopub.status.idle": "2021-03-09T09:32:03.562376Z",
     "shell.execute_reply": "2021-03-09T09:32:03.562773Z"
    },
    "papermill": {
     "duration": 0.020445,
     "end_time": "2021-03-09T09:32:03.562929",
     "exception": false,
     "start_time": "2021-03-09T09:32:03.542484",
     "status": "completed"
    },
    "tags": []
   },
   "outputs": [],
   "source": [
    "# We will time our model\n",
    "start = time.time()\n",
    "\n",
    "input_path = \"./data/archive/\"\n",
    "\n",
    "image_data = []\n",
    "image_labels = []\n",
    "\n",
    "# Number of total classes\n",
    "total_classes = 43\n",
    "\n",
    "# Dimensions of our images\n",
    "height = 32\n",
    "width = 32\n",
    "channels = 3"
   ]
  },
  {
   "cell_type": "code",
   "execution_count": 3,
   "metadata": {
    "execution": {
     "iopub.execute_input": "2021-03-09T09:32:03.595806Z",
     "iopub.status.busy": "2021-03-09T09:32:03.595240Z",
     "iopub.status.idle": "2021-03-09T09:37:33.770763Z",
     "shell.execute_reply": "2021-03-09T09:37:33.771368Z"
    },
    "papermill": {
     "duration": 330.19549,
     "end_time": "2021-03-09T09:37:33.771565",
     "exception": false,
     "start_time": "2021-03-09T09:32:03.576075",
     "status": "completed"
    },
    "tags": []
   },
   "outputs": [
    {
     "name": "stdout",
     "output_type": "stream",
     "text": [
      "Time taken:  12.88464 seconds\n"
     ]
    }
   ],
   "source": [
    "# Load the images from the correct path\n",
    "for i in range(total_classes):\n",
    "    path = input_path + \"Train/\" + str(i)\n",
    "    images = os.listdir(path)\n",
    "    \n",
    "    for img in images:\n",
    "        try:\n",
    "            image = cv2.imread(path + '/' + img)\n",
    "            image_fromarray = Image.fromarray(image, \"RGB\")\n",
    "            resize_image = image_fromarray.resize((height, width))\n",
    "            image_data.append(np.array(resize_image))\n",
    "            image_labels.append(i)\n",
    "        except:\n",
    "            print(\"Error in Image loading\")\n",
    "            \n",
    "# Converting lists into numpy arrays\n",
    "image_data = np.array(image_data)\n",
    "image_labels = np.array(image_labels)\n",
    "\n",
    "# Time taken to load our images in seconds\n",
    "end = time.time()\n",
    "print(\"Time taken: \", round(end-start, 5), \"seconds\")"
   ]
  },
  {
   "cell_type": "markdown",
   "metadata": {
    "papermill": {
     "duration": 0.013788,
     "end_time": "2021-03-09T09:37:33.799956",
     "exception": false,
     "start_time": "2021-03-09T09:37:33.786168",
     "status": "completed"
    },
    "tags": []
   },
   "source": [
    "### <a id='section3'>3. Preprocessing the data</a>"
   ]
  },
  {
   "cell_type": "code",
   "execution_count": 4,
   "metadata": {
    "execution": {
     "iopub.execute_input": "2021-03-09T09:37:33.832956Z",
     "iopub.status.busy": "2021-03-09T09:37:33.831832Z",
     "iopub.status.idle": "2021-03-09T09:37:33.874892Z",
     "shell.execute_reply": "2021-03-09T09:37:33.874402Z"
    },
    "papermill": {
     "duration": 0.061741,
     "end_time": "2021-03-09T09:37:33.875025",
     "exception": false,
     "start_time": "2021-03-09T09:37:33.813284",
     "status": "completed"
    },
    "tags": []
   },
   "outputs": [],
   "source": [
    "# Shuffling data\n",
    "shuffle_indexes = np.arange(image_data.shape[0])\n",
    "np.random.shuffle(shuffle_indexes)\n",
    "\n",
    "image_data = image_data[shuffle_indexes]\n",
    "image_labels = image_labels[shuffle_indexes]"
   ]
  },
  {
   "cell_type": "code",
   "execution_count": 5,
   "metadata": {
    "execution": {
     "iopub.execute_input": "2021-03-09T09:37:33.910714Z",
     "iopub.status.busy": "2021-03-09T09:37:33.908981Z",
     "iopub.status.idle": "2021-03-09T09:37:34.253287Z",
     "shell.execute_reply": "2021-03-09T09:37:34.253735Z"
    },
    "papermill": {
     "duration": 0.365227,
     "end_time": "2021-03-09T09:37:34.253901",
     "exception": false,
     "start_time": "2021-03-09T09:37:33.888674",
     "status": "completed"
    },
    "tags": []
   },
   "outputs": [
    {
     "name": "stdout",
     "output_type": "stream",
     "text": [
      "X_train.shape (31367, 32, 32, 3)\n",
      "X_valid.shape (7842, 32, 32, 3)\n",
      "y_train.shape (31367,)\n",
      "y_valid.shape (7842,)\n"
     ]
    }
   ],
   "source": [
    "# Splitting training and testing dataset\n",
    "X_train, X_valid, y_train, y_valid = train_test_split(image_data, image_labels, test_size=0.2,\n",
    "                                                     random_state=2666, shuffle=True)\n",
    "\n",
    "# Scale the values between 0 and 1\n",
    "X_train = X_train / 255\n",
    "X_valid = X_valid / 255\n",
    "\n",
    "# The dimensions concur\n",
    "print(\"X_train.shape\", X_train.shape)\n",
    "print(\"X_valid.shape\", X_valid.shape)\n",
    "print(\"y_train.shape\", y_train.shape)\n",
    "print(\"y_valid.shape\", y_valid.shape)"
   ]
  },
  {
   "cell_type": "code",
   "execution_count": 6,
   "metadata": {
    "execution": {
     "iopub.execute_input": "2021-03-09T09:37:34.287817Z",
     "iopub.status.busy": "2021-03-09T09:37:34.286811Z",
     "iopub.status.idle": "2021-03-09T09:37:34.292071Z",
     "shell.execute_reply": "2021-03-09T09:37:34.292502Z"
    },
    "papermill": {
     "duration": 0.024459,
     "end_time": "2021-03-09T09:37:34.292636",
     "exception": false,
     "start_time": "2021-03-09T09:37:34.268177",
     "status": "completed"
    },
    "tags": []
   },
   "outputs": [
    {
     "name": "stdout",
     "output_type": "stream",
     "text": [
      "(31367, 43)\n",
      "(7842, 43)\n"
     ]
    }
   ],
   "source": [
    "# Converting the labels into one hot encoding\n",
    "y_train = keras.utils.to_categorical(y_train, total_classes)\n",
    "y_valid = keras.utils.to_categorical(y_valid, total_classes)\n",
    "\n",
    "# The dimensions concur\n",
    "print(y_train.shape)\n",
    "print(y_valid.shape)"
   ]
  },
  {
   "cell_type": "code",
   "execution_count": 7,
   "metadata": {
    "execution": {
     "iopub.execute_input": "2021-03-09T09:37:34.325388Z",
     "iopub.status.busy": "2021-03-09T09:37:34.324740Z",
     "iopub.status.idle": "2021-03-09T09:37:34.343469Z",
     "shell.execute_reply": "2021-03-09T09:37:34.342618Z"
    },
    "papermill": {
     "duration": 0.036424,
     "end_time": "2021-03-09T09:37:34.343589",
     "exception": false,
     "start_time": "2021-03-09T09:37:34.307165",
     "status": "completed"
    },
    "tags": []
   },
   "outputs": [],
   "source": [
    "keras.backend.clear_session() # Clearing previous session if there was any\n",
    "np.random.seed(2666)"
   ]
  },
  {
   "cell_type": "markdown",
   "metadata": {
    "papermill": {
     "duration": 0.01426,
     "end_time": "2021-03-09T09:37:34.372266",
     "exception": false,
     "start_time": "2021-03-09T09:37:34.358006",
     "status": "completed"
    },
    "tags": []
   },
   "source": [
    "### <a id='section4'>4. The model</a>\n",
    "\n",
    "**Why convolutional networks**\n",
    "\n",
    "Color images commonly have over 30 million pixels per channel. Quickly we understand why ordinary neural networks were not feasible for comupting these figures. \n",
    "\n",
    "Convolution layers are the crux of the convolutional neural network. They use filters to extract features from the input image. A filter is also referred to as a kernel or feature detector. It can be thought of as a sliding window of weights. These weights are learned during training. That is, a CNN “learns” filters that are proficient at detecting certain types of visual features, such as a straight line, a semi-circle, and other image features that may be meaningless to humans, but that are helpful in determining a correct outcome.\n",
    "\n",
    "Filters usually have small width and height and, of course, they share the same depth as the input. For a color image, the filter depth is 3, for the three color channels of blue, green, and red. For a black and white image, the filter depth is 1.\n",
    "\n",
    "We slide the filter over the image at a certain stride, and the dot product is computed. Stride is simply the number of pixels we slide over each time we move the window. The dot products create a new matrix called the convolved feature or activation map or feature map."
   ]
  },
  {
   "cell_type": "markdown",
   "metadata": {
    "papermill": {
     "duration": 0.014197,
     "end_time": "2021-03-09T09:37:34.400908",
     "exception": false,
     "start_time": "2021-03-09T09:37:34.386711",
     "status": "completed"
    },
    "tags": []
   },
   "source": [
    "![Convlayer](https://miro.medium.com/max/1206/1*ZPXWZDIHFbTxs-6KVPS5gg.png)"
   ]
  },
  {
   "cell_type": "markdown",
   "metadata": {
    "papermill": {
     "duration": 0.014422,
     "end_time": "2021-03-09T09:37:34.429999",
     "exception": false,
     "start_time": "2021-03-09T09:37:34.415577",
     "status": "completed"
    },
    "tags": []
   },
   "source": [
    "**LeNet** is a convolutional neural network structure proposed by Yann LeCun et al. in 1998. and is a simple convolutional neural network structure. This is the one we will implement here: In general, LeNet refers to lenet-5 and is a simple convolutional neural network. Note that LeNet uses `tahn` activation function and here we will use `reLu`."
   ]
  },
  {
   "cell_type": "code",
   "execution_count": 8,
   "metadata": {
    "execution": {
     "iopub.execute_input": "2021-03-09T09:37:34.466448Z",
     "iopub.status.busy": "2021-03-09T09:37:34.465900Z",
     "iopub.status.idle": "2021-03-09T09:37:37.340138Z",
     "shell.execute_reply": "2021-03-09T09:37:37.339469Z"
    },
    "papermill": {
     "duration": 2.895832,
     "end_time": "2021-03-09T09:37:37.340257",
     "exception": false,
     "start_time": "2021-03-09T09:37:34.444425",
     "status": "completed"
    },
    "tags": []
   },
   "outputs": [
    {
     "name": "stdout",
     "output_type": "stream",
     "text": [
      "Model: \"sequential\"\n",
      "_________________________________________________________________\n",
      "Layer (type)                 Output Shape              Param #   \n",
      "=================================================================\n",
      "conv2d (Conv2D)              (None, 28, 28, 18)        1368      \n",
      "_________________________________________________________________\n",
      "max_pooling2d (MaxPooling2D) (None, 14, 14, 18)        0         \n",
      "_________________________________________________________________\n",
      "conv2d_1 (Conv2D)            (None, 10, 10, 36)        16236     \n",
      "_________________________________________________________________\n",
      "max_pooling2d_1 (MaxPooling2 (None, 5, 5, 36)          0         \n",
      "_________________________________________________________________\n",
      "conv2d_2 (Conv2D)            (None, 1, 1, 36)          32436     \n",
      "_________________________________________________________________\n",
      "max_pooling2d_2 (MaxPooling2 (None, 1, 1, 36)          0         \n",
      "_________________________________________________________________\n",
      "flatten (Flatten)            (None, 36)                0         \n",
      "_________________________________________________________________\n",
      "dense (Dense)                (None, 72)                2664      \n",
      "_________________________________________________________________\n",
      "dense_1 (Dense)              (None, 43)                3139      \n",
      "=================================================================\n",
      "Total params: 55,843\n",
      "Trainable params: 55,843\n",
      "Non-trainable params: 0\n",
      "_________________________________________________________________\n"
     ]
    }
   ],
   "source": [
    "# Create our model with Keras is straightforward\n",
    "model = keras.models.Sequential([\n",
    "    keras.layers.Conv2D(filters=18, kernel_size=(5,5), strides=1, activation=\"relu\", \n",
    "                        input_shape=(height, width, channels)),\n",
    "    keras.layers.MaxPooling2D(pool_size=(2,2), strides=2),\n",
    "    keras.layers.Conv2D(filters=36, kernel_size=(5,5), strides=1, activation=\"relu\"),\n",
    "    keras.layers.MaxPooling2D(pool_size=(2,2), strides=2),\n",
    "    keras.layers.Conv2D(filters=36, kernel_size=(5, 5), activation=\"relu\"),\n",
    "    keras.layers.MaxPooling2D(pool_size=(1,1)),\n",
    "    keras.layers.Flatten(),\n",
    "    keras.layers.Dense(units=72, activation=\"relu\"),\n",
    "    keras.layers.Dense(units=43, activation=\"softmax\"),\n",
    "])\n",
    "\n",
    "model.summary()"
   ]
  },
  {
   "cell_type": "code",
   "execution_count": 9,
   "metadata": {
    "execution": {
     "iopub.execute_input": "2021-03-09T09:37:37.382293Z",
     "iopub.status.busy": "2021-03-09T09:37:37.381092Z",
     "iopub.status.idle": "2021-03-09T09:38:51.341241Z",
     "shell.execute_reply": "2021-03-09T09:38:51.340659Z"
    },
    "papermill": {
     "duration": 73.98559,
     "end_time": "2021-03-09T09:38:51.341410",
     "exception": false,
     "start_time": "2021-03-09T09:37:37.355820",
     "status": "completed"
    },
    "tags": []
   },
   "outputs": [
    {
     "name": "stdout",
     "output_type": "stream",
     "text": [
      "Epoch 1/20\n",
      "981/981 [==============================] - 19s 19ms/step - loss: 2.4827 - accuracy: 0.3448 - val_loss: 0.5811 - val_accuracy: 0.8403\n",
      "Epoch 2/20\n",
      "981/981 [==============================] - 19s 20ms/step - loss: 0.4942 - accuracy: 0.8594 - val_loss: 0.2863 - val_accuracy: 0.9268\n",
      "Epoch 3/20\n",
      "981/981 [==============================] - 19s 19ms/step - loss: 0.2669 - accuracy: 0.9297 - val_loss: 0.2007 - val_accuracy: 0.9486\n",
      "Epoch 4/20\n",
      "981/981 [==============================] - 19s 20ms/step - loss: 0.1731 - accuracy: 0.9536 - val_loss: 0.1381 - val_accuracy: 0.9670\n",
      "Epoch 5/20\n",
      "981/981 [==============================] - 19s 19ms/step - loss: 0.1210 - accuracy: 0.9668 - val_loss: 0.1137 - val_accuracy: 0.9722\n",
      "Epoch 6/20\n",
      "981/981 [==============================] - 19s 19ms/step - loss: 0.0912 - accuracy: 0.9752 - val_loss: 0.1219 - val_accuracy: 0.9679\n",
      "Epoch 7/20\n",
      "981/981 [==============================] - 19s 19ms/step - loss: 0.0692 - accuracy: 0.9821 - val_loss: 0.1389 - val_accuracy: 0.9649\n",
      "Epoch 8/20\n",
      "981/981 [==============================] - 19s 19ms/step - loss: 0.0706 - accuracy: 0.9809 - val_loss: 0.1152 - val_accuracy: 0.9705\n",
      "Epoch 9/20\n",
      "981/981 [==============================] - 33s 34ms/step - loss: 0.0569 - accuracy: 0.9852 - val_loss: 0.0892 - val_accuracy: 0.9810\n",
      "Epoch 10/20\n",
      "981/981 [==============================] - 32s 33ms/step - loss: 0.0506 - accuracy: 0.9851 - val_loss: 0.0730 - val_accuracy: 0.9844\n",
      "Epoch 11/20\n",
      "981/981 [==============================] - 30s 31ms/step - loss: 0.0414 - accuracy: 0.9887 - val_loss: 0.1050 - val_accuracy: 0.9788\n",
      "Epoch 12/20\n",
      "981/981 [==============================] - 31s 31ms/step - loss: 0.0381 - accuracy: 0.9899 - val_loss: 0.1305 - val_accuracy: 0.9665\n",
      "Epoch 13/20\n",
      "981/981 [==============================] - 32s 32ms/step - loss: 0.0427 - accuracy: 0.9885 - val_loss: 0.0806 - val_accuracy: 0.9850\n",
      "Epoch 14/20\n",
      "981/981 [==============================] - 30s 31ms/step - loss: 0.0335 - accuracy: 0.9897 - val_loss: 0.0655 - val_accuracy: 0.9844\n",
      "Epoch 15/20\n",
      "981/981 [==============================] - 30s 31ms/step - loss: 0.0321 - accuracy: 0.9905 - val_loss: 0.0918 - val_accuracy: 0.9821\n",
      "Epoch 16/20\n",
      "981/981 [==============================] - 30s 31ms/step - loss: 0.0256 - accuracy: 0.9928 - val_loss: 0.0711 - val_accuracy: 0.9853\n",
      "Epoch 17/20\n",
      "981/981 [==============================] - 35s 36ms/step - loss: 0.0279 - accuracy: 0.9922 - val_loss: 0.0726 - val_accuracy: 0.9865\n",
      "Epoch 18/20\n",
      "981/981 [==============================] - 31s 32ms/step - loss: 0.0287 - accuracy: 0.9913 - val_loss: 0.1603 - val_accuracy: 0.9713\n",
      "Epoch 19/20\n",
      "981/981 [==============================] - 32s 33ms/step - loss: 0.0321 - accuracy: 0.9920 - val_loss: 0.0865 - val_accuracy: 0.9828\n",
      "Epoch 20/20\n",
      "981/981 [==============================] - 32s 32ms/step - loss: 0.0257 - accuracy: 0.9932 - val_loss: 0.0831 - val_accuracy: 0.9838\n"
     ]
    }
   ],
   "source": [
    "# Compilation of our model\n",
    "model.compile(loss=\"categorical_crossentropy\", optimizer=\"adam\", metrics=[\"accuracy\"])\n",
    "\n",
    "epochs = 20\n",
    "history = model.fit(X_train, y_train, batch_size=32, epochs=epochs, validation_data=(X_valid, y_valid))\n",
    "validation_data = (X_valid, y_valid)"
   ]
  },
  {
   "cell_type": "code",
   "execution_count": 10,
   "metadata": {
    "execution": {
     "iopub.execute_input": "2021-03-09T09:38:51.976280Z",
     "iopub.status.busy": "2021-03-09T09:38:51.975718Z",
     "iopub.status.idle": "2021-03-09T09:38:52.377253Z",
     "shell.execute_reply": "2021-03-09T09:38:52.377698Z"
    },
    "papermill": {
     "duration": 0.720789,
     "end_time": "2021-03-09T09:38:52.377847",
     "exception": false,
     "start_time": "2021-03-09T09:38:51.657058",
     "status": "completed"
    },
    "tags": []
   },
   "outputs": [
    {
     "data": {
      "image/png": "[encoded data removed]",
      "text/plain": [
       "<Figure size 576x360 with 1 Axes>"
      ]
     },
     "metadata": {
      "needs_background": "light"
     },
     "output_type": "display_data"
    }
   ],
   "source": [
    "pd.DataFrame(history.history).plot(figsize=(8, 5))\n",
    "plt.grid(True)\n",
    "plt.gca().set_ylim(0, 1)\n",
    "plt.show()"
   ]
  },
  {
   "cell_type": "markdown",
   "metadata": {
    "papermill": {
     "duration": 0.313152,
     "end_time": "2021-03-09T09:38:53.004797",
     "exception": false,
     "start_time": "2021-03-09T09:38:52.691645",
     "status": "completed"
    },
    "tags": []
   },
   "source": [
    "### <a id='section5'> 5. Validation of the model</a>"
   ]
  },
  {
   "cell_type": "code",
   "execution_count": 11,
   "metadata": {
    "execution": {
     "iopub.execute_input": "2021-03-09T09:38:53.641058Z",
     "iopub.status.busy": "2021-03-09T09:38:53.640489Z",
     "iopub.status.idle": "2021-03-09T09:38:53.673488Z",
     "shell.execute_reply": "2021-03-09T09:38:53.672723Z"
    },
    "papermill": {
     "duration": 0.355948,
     "end_time": "2021-03-09T09:38:53.673620",
     "exception": false,
     "start_time": "2021-03-09T09:38:53.317672",
     "status": "completed"
    },
    "tags": []
   },
   "outputs": [],
   "source": [
    "# Testing accuracy on the reserved test set\n",
    "test = pd.read_csv(input_path + \"/Test.csv\")\n",
    "\n",
    "labels = test[\"ClassId\"].values\n",
    "test_imgs = test[\"Path\"].values"
   ]
  },
  {
   "cell_type": "code",
   "execution_count": 12,
   "metadata": {
    "execution": {
     "iopub.execute_input": "2021-03-09T09:38:54.308010Z",
     "iopub.status.busy": "2021-03-09T09:38:54.307479Z",
     "iopub.status.idle": "2021-03-09T09:38:54.449178Z",
     "shell.execute_reply": "2021-03-09T09:38:54.448730Z"
    },
    "papermill": {
     "duration": 0.460912,
     "end_time": "2021-03-09T09:38:54.449302",
     "exception": false,
     "start_time": "2021-03-09T09:38:53.988390",
     "status": "completed"
    },
    "tags": []
   },
   "outputs": [
    {
     "name": "stdout",
     "output_type": "stream",
     "text": [
      "(1, 32, 32, 3)\n",
      "11\n"
     ]
    },
    {
     "data": {
      "text/plain": [
       "<matplotlib.image.AxesImage at 0x7f030342fa30>"
      ]
     },
     "execution_count": 12,
     "metadata": {},
     "output_type": "execute_result"
    },
    {
     "data": {
      "image/png": "[encoded data removed]",
      "text/plain": [
       "<Figure size 432x288 with 1 Axes>"
      ]
     },
     "metadata": {
      "needs_background": "light"
     },
     "output_type": "display_data"
    }
   ],
   "source": [
    "# How an image looks like\n",
    "img_index = 25\n",
    "image = Image.open(input_path + test_imgs[img_index])\n",
    "img = image.resize((height,width))\n",
    "img = np.array(img) / 255.\n",
    "img = img.reshape(1, height, width, channels)\n",
    "\n",
    "print(img.shape)\n",
    "print(labels[img_index])\n",
    "plt.imshow(image)"
   ]
  },
  {
   "cell_type": "markdown",
   "metadata": {
    "papermill": {
     "duration": 0.32103,
     "end_time": "2021-03-09T09:38:55.095110",
     "exception": false,
     "start_time": "2021-03-09T09:38:54.774080",
     "status": "completed"
    },
    "tags": []
   },
   "source": [
    "We don't know what that 11 of the class means. Let us map these values and predict this same image afterwards"
   ]
  },
  {
   "cell_type": "code",
   "execution_count": 13,
   "metadata": {
    "execution": {
     "iopub.execute_input": "2021-03-09T09:38:55.733995Z",
     "iopub.status.busy": "2021-03-09T09:38:55.733246Z",
     "iopub.status.idle": "2021-03-09T09:38:55.737016Z",
     "shell.execute_reply": "2021-03-09T09:38:55.736591Z"
    },
    "papermill": {
     "duration": 0.326846,
     "end_time": "2021-03-09T09:38:55.737125",
     "exception": false,
     "start_time": "2021-03-09T09:38:55.410279",
     "status": "completed"
    },
    "tags": []
   },
   "outputs": [],
   "source": [
    "# Dictionary to map classes.\n",
    "classes = { \n",
    "    0:'Speed limit (20km/h)',\n",
    "    1:'Speed limit (30km/h)', \n",
    "    2:'Speed limit (50km/h)', \n",
    "    3:'Speed limit (60km/h)', \n",
    "    4:'Speed limit (70km/h)', \n",
    "    5:'Speed limit (80km/h)', \n",
    "    6:'End of speed limit (80km/h)', \n",
    "    7:'Speed limit (100km/h)', \n",
    "    8:'Speed limit (120km/h)', \n",
    "    9:'No passing', \n",
    "    10:'No passing veh over 3.5 tons', \n",
    "    11:'Right-of-way at intersection', \n",
    "    12:'Priority road', \n",
    "    13:'Yield', \n",
    "    14:'Stop', \n",
    "    15:'No vehicles', \n",
    "    16:'Veh > 3.5 tons prohibited', \n",
    "    17:'No entry', \n",
    "    18:'General caution', \n",
    "    19:'Dangerous curve left', \n",
    "    20:'Dangerous curve right', \n",
    "    21:'Double curve', \n",
    "    22:'Bumpy road', \n",
    "    23:'Slippery road', \n",
    "    24:'Road narrows on the right', \n",
    "    25:'Road work', \n",
    "    26:'Traffic signals', \n",
    "    27:'Pedestrians', \n",
    "    28:'Children crossing', \n",
    "    29:'Bicycles crossing', \n",
    "    30:'Beware of ice/snow',\n",
    "    31:'Wild animals crossing', \n",
    "    32:'End speed + passing limits', \n",
    "    33:'Turn right ahead', \n",
    "    34:'Turn left ahead', \n",
    "    35:'Ahead only', \n",
    "    36:'Go straight or right', \n",
    "    37:'Go straight or left', \n",
    "    38:'Keep right', \n",
    "    39:'Keep left', \n",
    "    40:'Roundabout mandatory', \n",
    "    41:'End of no passing', \n",
    "    42:'End no passing veh > 3.5 tons'\n",
    "          }"
   ]
  },
  {
   "cell_type": "code",
   "execution_count": 14,
   "metadata": {
    "execution": {
     "iopub.execute_input": "2021-03-09T09:38:56.373931Z",
     "iopub.status.busy": "2021-03-09T09:38:56.373094Z",
     "iopub.status.idle": "2021-03-09T09:38:56.499528Z",
     "shell.execute_reply": "2021-03-09T09:38:56.500077Z"
    },
    "papermill": {
     "duration": 0.446768,
     "end_time": "2021-03-09T09:38:56.500276",
     "exception": false,
     "start_time": "2021-03-09T09:38:56.053508",
     "status": "completed"
    },
    "tags": []
   },
   "outputs": [
    {
     "name": "stdout",
     "output_type": "stream",
     "text": [
      "11\n",
      "Right-of-way at intersection\n"
     ]
    }
   ],
   "source": [
    "# Prediction of this image\n",
    "pred = model.predict_classes(img)[0]\n",
    "print(pred)\n",
    "\n",
    "sign = classes[pred]\n",
    "print(sign)"
   ]
  },
  {
   "cell_type": "code",
   "execution_count": 15,
   "metadata": {
    "execution": {
     "iopub.execute_input": "2021-03-09T09:38:57.183921Z",
     "iopub.status.busy": "2021-03-09T09:38:57.183003Z",
     "iopub.status.idle": "2021-03-09T09:40:44.753980Z",
     "shell.execute_reply": "2021-03-09T09:40:44.753473Z"
    },
    "papermill": {
     "duration": 107.935167,
     "end_time": "2021-03-09T09:40:44.754135",
     "exception": false,
     "start_time": "2021-03-09T09:38:56.818968",
     "status": "completed"
    },
    "tags": []
   },
   "outputs": [],
   "source": [
    "# Load and preprocess test set\n",
    "start = time.time()\n",
    "test = pd.read_csv(input_path + 'Test.csv')\n",
    "\n",
    "labels = test[\"ClassId\"].values\n",
    "imgs = test[\"Path\"].values\n",
    "\n",
    "data = []\n",
    "\n",
    "for img in imgs:\n",
    "    try:\n",
    "        image = cv2.imread(input_path + img)\n",
    "        image_fromarray = Image.fromarray(image, 'RGB')\n",
    "        resize_image = image_fromarray.resize((height, width))\n",
    "        data.append(np.array(resize_image))\n",
    "    except:\n",
    "        print(\"Error\")\n",
    "        \n",
    "X_test = np.array(data)\n",
    "X_test = X_test / 255"
   ]
  },
  {
   "cell_type": "code",
   "execution_count": 16,
   "metadata": {
    "execution": {
     "iopub.execute_input": "2021-03-09T09:40:45.386193Z",
     "iopub.status.busy": "2021-03-09T09:40:45.385671Z",
     "iopub.status.idle": "2021-03-09T09:40:46.023949Z",
     "shell.execute_reply": "2021-03-09T09:40:46.023520Z"
    },
    "papermill": {
     "duration": 0.956058,
     "end_time": "2021-03-09T09:40:46.024073",
     "exception": false,
     "start_time": "2021-03-09T09:40:45.068015",
     "status": "completed"
    },
    "tags": []
   },
   "outputs": [
    {
     "name": "stdout",
     "output_type": "stream",
     "text": [
      "0.9190023752969121\n",
      "Time taken:  19.78662 seconds\n"
     ]
    }
   ],
   "source": [
    "# Prediction of test set\n",
    "pred = model.predict_classes(X_test)\n",
    "\n",
    "#Accuracy with the test data\n",
    "print(accuracy_score(labels, pred))\n",
    "end = time.time()\n",
    "print(\"Time taken: \", round(end-start,5), \"seconds\")"
   ]
  },
  {
   "cell_type": "code",
   "execution_count": 17,
   "metadata": {},
   "outputs": [],
   "source": [
    "model.save('./model.h5')"
   ]
  },
  {
   "cell_type": "code",
   "execution_count": null,
   "metadata": {},
   "outputs": [],
   "source": []
  }
 ],
 "metadata": {
  "kernelspec": {
   "display_name": "Python 3",
   "language": "python",
   "name": "python3"
  },
  "language_info": {
   "codemirror_mode": {
    "name": "ipython",
    "version": 3
   },
   "file_extension": ".py",
   "mimetype": "text/x-python",
   "name": "python",
   "nbconvert_exporter": "python",
   "pygments_lexer": "ipython3",
   "version": "3.8.5"
  },
  "papermill": {
   "default_parameters": {},
   "duration": 537.910682,
   "end_time": "2021-03-09T09:40:49.657585",
   "environment_variables": {},
   "exception": null,
   "input_path": "__notebook__.ipynb",
   "output_path": "__notebook__.ipynb",
   "parameters": {},
   "start_time": "2021-03-09T09:31:51.746903",
   "version": "2.2.2"
  }
 },
 "nbformat": 4,
 "nbformat_minor": 4
}
